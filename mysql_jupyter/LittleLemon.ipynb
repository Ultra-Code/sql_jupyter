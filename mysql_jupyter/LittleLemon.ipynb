{
 "cells": [
  {
   "cell_type": "markdown",
   "metadata": {},
   "source": [
    "Establish Connection"
   ]
  },
  {
   "cell_type": "code",
   "execution_count": 2,
   "metadata": {},
   "outputs": [
    {
     "name": "stdout",
     "output_type": "stream",
     "text": [
      "Collecting mysql-connector-python\n",
      "  Downloading mysql_connector_python-8.1.0-py2.py3-none-any.whl (581 kB)\n",
      "\u001b[K     |████████████████████████████████| 581 kB 51.8 MB/s \n",
      "\u001b[?25hCollecting protobuf<=4.21.12,>=4.21.1\n",
      "  Downloading protobuf-4.21.12-cp37-abi3-manylinux2014_x86_64.whl (409 kB)\n",
      "\u001b[K     |████████████████████████████████| 409 kB 122.3 MB/s \n",
      "\u001b[?25hInstalling collected packages: protobuf, mysql-connector-python\n",
      "Successfully installed mysql-connector-python-8.1.0 protobuf-4.21.12\n",
      "Connection between MySQL and Python is established.\n",
      "\n",
      "Cursor is created to communicate with the MySQL using Python.\n",
      "\n",
      "The database little_lemon is created.\n",
      "\n",
      "The database little_lemon is set for use.\n",
      "\n"
     ]
    }
   ],
   "source": [
    "#install connector api using the command below.\n",
    "!pip install mysql-connector-python\n",
    "\n",
    "# Import the MySQL Connector/Python\n",
    "import mysql.connector as connector\n",
    "\n",
    "# Establish connection between Python and MySQL database via connector API\n",
    "connection=connector.connect(\n",
    "                             user=\"root\", # use your own\n",
    "                             password=\"\", # use your own\n",
    "                            )\n",
    "print(\"Connection between MySQL and Python is established.\\n\")\n",
    "\n",
    "# Create cursor object to communicate with entire MySQL database\n",
    "cursor = connection.cursor()\n",
    "print(\"Cursor is created to communicate with the MySQL using Python.\\n\")\n",
    "\n",
    "# If exist, drop the database first, and create again\n",
    "try:\n",
    "    cursor.execute(\"CREATE DATABASE little_lemon\")\n",
    "except:\n",
    "    cursor.execute(\"drop database little_lemon\")\n",
    "    cursor.execute(\"CREATE DATABASE little_lemon\")\n",
    "print(\"The database little_lemon is created.\\n\")    \n",
    "    \n",
    "# Set little_lemon database for use \n",
    "cursor.execute(\"USE little_lemon\")\n",
    "print(\"The database little_lemon is set for use.\\n\")"
   ]
  },
  {
   "cell_type": "markdown",
   "metadata": {},
   "source": [
    "Create MenuItems Table and Insert Records"
   ]
  },
  {
   "cell_type": "code",
   "execution_count": 3,
   "metadata": {},
   "outputs": [
    {
     "name": "stdout",
     "output_type": "stream",
     "text": [
      "MenuItems table is created.\n",
      "\n",
      "Inserting data in MenuItems table.\n",
      "Total number of rows in MenuItem table: 17\n",
      "\n"
     ]
    }
   ],
   "source": [
    "# The SQL query for the MenuItems table is:\n",
    "create_menuitems_table = \"\"\"\n",
    "CREATE TABLE MenuItems (\n",
    "ItemID INT AUTO_INCREMENT,\n",
    "Name VARCHAR(200),\n",
    "Type VARCHAR(100),\n",
    "Price INT,\n",
    "PRIMARY KEY (ItemID)\n",
    ");\"\"\"\n",
    "\n",
    "# Create MenuItems table\n",
    "cursor.execute(create_menuitems_table)\n",
    "print(\"MenuItems table is created.\\n\")\n",
    "\n",
    "# *******************************************************#\n",
    "# Insert query to populate \"MenuItems\" table:\n",
    "# *******************************************************#\n",
    "insert_menuitems = \"\"\"\n",
    "INSERT INTO MenuItems (ItemID, Name, Type, Price)\n",
    "VALUES\n",
    "(1,'Olives','Starters',5),\n",
    "(2,'Flatbread','Starters', 5),\n",
    "(3, 'Minestrone', 'Starters', 8),\n",
    "(4, 'Tomato bread','Starters', 8),\n",
    "(5, 'Falafel', 'Starters', 7),\n",
    "(6, 'Hummus', 'Starters', 5),\n",
    "(7, 'Greek salad', 'Main Courses', 15),\n",
    "(8, 'Bean soup', 'Main Courses', 12),\n",
    "(9, 'Pizza', 'Main Courses', 15),\n",
    "(10,'Greek yoghurt','Desserts', 7),\n",
    "(11, 'Ice cream', 'Desserts', 6),\n",
    "(12, 'Cheesecake', 'Desserts', 4),\n",
    "(13, 'Athens White wine', 'Drinks', 25),\n",
    "(14, 'Corfu Red Wine', 'Drinks', 30),\n",
    "(15, 'Turkish Coffee', 'Drinks', 10),\n",
    "(16, 'Turkish Coffee', 'Drinks', 10),\n",
    "(17, 'Kabasa', 'Main Courses', 17);\"\"\"\n",
    "\n",
    "print(\"Inserting data in MenuItems table.\")\n",
    "# Populate MenuItems table\n",
    "cursor.execute(insert_menuitems)\n",
    "print(\"Total number of rows in MenuItem table: {}\\n\".format(cursor.rowcount))\n",
    "# Once the query is executed,  commit the change to the database\n",
    "connection.commit()\n"
   ]
  },
  {
   "cell_type": "markdown",
   "metadata": {},
   "source": [
    "Create Menus Table and Insert Records"
   ]
  },
  {
   "cell_type": "code",
   "execution_count": 4,
   "metadata": {},
   "outputs": [
    {
     "name": "stdout",
     "output_type": "stream",
     "text": [
      "Menu table is created.\n",
      "\n",
      "Inserting data in Menus table.\n",
      "Total number of rows in Menu table: 12\n",
      "\n"
     ]
    }
   ],
   "source": [
    "# The SQL query for the Menus table is:\n",
    "create_menus_table = \"\"\"\n",
    "CREATE TABLE Menus (\n",
    "MenuID INT,\n",
    "ItemID INT,\n",
    "Cuisine VARCHAR(100),\n",
    "PRIMARY KEY (MenuID, ItemID)\n",
    ");\"\"\"\n",
    "\n",
    "# Create Menus table\n",
    "cursor.execute(create_menus_table)\n",
    "print(\"Menu table is created.\\n\")\n",
    "\n",
    "\n",
    "# *******************************************************#\n",
    "# Insert query to populate \"Menus\" table:\n",
    "# *******************************************************#\n",
    "insert_menus = \"\"\"\n",
    "INSERT INTO Menus (MenuID, ItemID, Cuisine)\n",
    "VALUES\n",
    "(1, 1, 'Greek'),\n",
    "(1, 7, 'Greek'),\n",
    "(1, 10, 'Greek'),\n",
    "(1, 13, 'Greek'),\n",
    "(2, 3, 'Italian'),\n",
    "(2, 9, 'Italian'),\n",
    "(2, 12, 'Italian'),\n",
    "(2, 15, 'Italian'),\n",
    "(3, 5, 'Turkish'),\n",
    "(3, 17, 'Turkish'),\n",
    "(3, 11, 'Turkish'),\n",
    "(3, 16, 'Turkish');\"\"\"\n",
    "\n",
    "print(\"Inserting data in Menus table.\")\n",
    "# Populate Menus table\n",
    "cursor.execute(insert_menus)\n",
    "print(\"Total number of rows in Menu table: {}\\n\".format(cursor.rowcount))\n",
    "connection.commit()\n"
   ]
  },
  {
   "cell_type": "markdown",
   "metadata": {},
   "source": [
    "Create Bookings Table and Insert Records"
   ]
  },
  {
   "cell_type": "code",
   "execution_count": 5,
   "metadata": {},
   "outputs": [
    {
     "name": "stdout",
     "output_type": "stream",
     "text": [
      "Bookings table is created.\n",
      "\n",
      "Inserting data in Bookings table.\n",
      "Total number of rows in Bookings table: 6\n",
      "\n"
     ]
    }
   ],
   "source": [
    "# SQL query for Bookings table::\n",
    "create_bookings_table = \"\"\"\n",
    "CREATE TABLE Bookings (\n",
    "BookingID INT AUTO_INCREMENT,\n",
    "TableNo INT,\n",
    "GuestFirstName VARCHAR(100) NOT NULL,\n",
    "GuestLastName VARCHAR(100) NOT NULL,\n",
    "BookingSlot TIME NOT NULL,\n",
    "EmployeeID INT,\n",
    "PRIMARY KEY (BookingID)\n",
    ");\"\"\"\n",
    "\n",
    "# Create Bookings table\n",
    "cursor.execute(create_bookings_table)\n",
    "print(\"Bookings table is created.\\n\")\n",
    "\n",
    "# *******************************************************#\n",
    "# Insert query to populate \"Bookings\" table:\n",
    "# *******************************************************#\n",
    "insert_bookings = \"\"\"\n",
    "INSERT INTO Bookings (BookingID, TableNo, GuestFirstName, \n",
    "GuestLastName, BookingSlot, EmployeeID)\n",
    "VALUES\n",
    "(1,12,'Anna','Iversen','19:00:00',1),\n",
    "(2, 12, 'Joakim', 'Iversen', '19:00:00', 1),\n",
    "(3, 19, 'Vanessa', 'McCarthy', '15:00:00', 3),\n",
    "(4, 15, 'Marcos', 'Romero', '17:30:00', 4),\n",
    "(5, 5, 'Hiroki', 'Yamane', '18:30:00', 2),\n",
    "(6, 8, 'Diana', 'Pinto', '20:00:00', 5);\"\"\"\n",
    "\n",
    "print(\"Inserting data in Bookings table.\")\n",
    "# Populate Bookings table\n",
    "cursor.execute(insert_bookings)\n",
    "print(\"Total number of rows in Bookings table: {}\\n\".format(cursor.rowcount))\n",
    "connection.commit()\n"
   ]
  },
  {
   "cell_type": "markdown",
   "metadata": {},
   "source": [
    "Create Orders Table and Insert Records"
   ]
  },
  {
   "cell_type": "code",
   "execution_count": 6,
   "metadata": {},
   "outputs": [
    {
     "name": "stdout",
     "output_type": "stream",
     "text": [
      "Orders table is created.\n",
      "\n",
      "Inserting data in Orders table.\n",
      "Total number of rows in Orders table: 5\n",
      "\n"
     ]
    }
   ],
   "source": [
    "#  SQL query for Orders table:\n",
    "create_orders_table = \"\"\"\n",
    "CREATE TABLE Orders (\n",
    "OrderID INT,\n",
    "TableNo INT,\n",
    "MenuID INT,\n",
    "BookingID INT,\n",
    "BillAmount INT,\n",
    "Quantity INT,\n",
    "PRIMARY KEY (OrderID,TableNo)\n",
    ");\"\"\"\n",
    "\n",
    "# Create Orders table\n",
    "cursor.execute(create_orders_table)\n",
    "print(\"Orders table is created.\\n\")\n",
    "\n",
    "# *******************************************************#\n",
    "# Insert query to populate \"Orders\" table is:\n",
    "# *******************************************************#\n",
    "insert_orders = \"\"\"\n",
    "INSERT INTO Orders (OrderID, TableNo, MenuID, BookingID, Quantity, BillAmount)\n",
    "VALUES\n",
    "(1, 12, 1, 1, 2, 86),\n",
    "(2, 19, 2, 2, 1, 37),\n",
    "(3, 15, 2, 3, 1, 37),\n",
    "(4, 5, 3, 4, 1, 40),\n",
    "(5, 8, 1, 5, 1, 43);\"\"\"\n",
    "\n",
    "print(\"Inserting data in Orders table.\")\n",
    "# Populate Orders table\n",
    "cursor.execute(insert_orders)\n",
    "print(\"Total number of rows in Orders table: {}\\n\".format(cursor.rowcount))\n",
    "connection.commit()\n"
   ]
  },
  {
   "cell_type": "markdown",
   "metadata": {},
   "source": [
    "Create Employees Table and Insert Records"
   ]
  },
  {
   "cell_type": "code",
   "execution_count": 7,
   "metadata": {},
   "outputs": [
    {
     "name": "stdout",
     "output_type": "stream",
     "text": [
      "Inserting data in the Employees table.\n",
      "Total number of rows in the Employees table:  6\n"
     ]
    }
   ],
   "source": [
    "#  SQL query for  Employees table:\n",
    "create_employees_table = \"\"\"\n",
    "CREATE TABLE Employees (\n",
    "EmployeeID INT AUTO_INCREMENT,\n",
    "Name VARCHAR(200),\n",
    "Role VARCHAR(100),\n",
    "Address VARCHAR(200),\n",
    "Contact_Number INT,\n",
    "Email VARCHAR(100),\n",
    "Annual_Salary VARCHAR(100),\n",
    "PRIMARY KEY (EmployeeID)\n",
    ");\"\"\"\n",
    "\n",
    "# Create Employees table\n",
    "cursor.execute(create_employees_table)\n",
    "\n",
    "# *******************************************************#\n",
    "# Insert query to populate \"Employees\" table:\n",
    "# *******************************************************#\n",
    "insert_employees = \"\"\"\n",
    "INSERT INTO Employees (EmployeeID, Name, Role, Address, Contact_Number, Email, Annual_Salary)\n",
    "VALUES\n",
    "(01,'Mario Gollini','Manager','724, Parsley Lane, Old Town, Chicago, IL',351258074,'Mario.g@littlelemon.com','$70,000'),\n",
    "(02,'Adrian Gollini','Assistant Manager','334, Dill Square, Lincoln Park, Chicago, IL',351474048,'Adrian.g@littlelemon.com','$65,000'),\n",
    "(03,'Giorgos Dioudis','Head Chef','879 Sage Street, West Loop, Chicago, IL',351970582,'Giorgos.d@littlelemon.com','$50,000'),\n",
    "(04,'Fatma Kaya','Assistant Chef','132  Bay Lane, Chicago, IL',351963569,'Fatma.k@littlelemon.com','$45,000'),\n",
    "(05,'Elena Salvai','Head Waiter','989 Thyme Square, EdgeWater, Chicago, IL',351074198,'Elena.s@littlelemon.com','$40,000'),\n",
    "(06,'John Millar','Receptionist','245 Dill Square, Lincoln Park, Chicago, IL',351584508,'John.m@littlelemon.com','$35,000');\"\"\"\n",
    "\n",
    "\n",
    "print(\"Inserting data in the Employees table.\")\n",
    "# Populate Employees table\n",
    "cursor.execute(insert_employees)\n",
    "print(\"Total number of rows in the Employees table: \", cursor.rowcount)\n",
    "# Once the query is executed, you can commit the change to the database\n",
    "connection.commit()\n"
   ]
  },
  {
   "cell_type": "markdown",
   "metadata": {},
   "source": [
    "Create Stored Procedures"
   ]
  },
  {
   "cell_type": "code",
   "execution_count": 14,
   "metadata": {},
   "outputs": [
    {
     "name": "stdout",
     "output_type": "stream",
     "text": [
      "The connection pool is created with a name:  pool_a\n",
      "The pool size is: 2\n"
     ]
    }
   ],
   "source": [
    "# Step three: Create a pool named pool_a with two connections. Use a try-except block to handle any possible errors\n",
    "dbconfig={\"database\" : \"little_lemon\", \"user\" : \"root\", \"password\" : \"\"}\n",
    "\n",
    "try:\n",
    "    pool = MySQLConnectionPool(pool_name = \"pool_a\", pool_size = 2, **dbconfig) #default is 5\n",
    "    print(\"The connection pool is created with a name: \", pool.pool_name)\n",
    "    print(\"The pool size is:\", pool.pool_size)\n",
    "\n",
    "except Error as er:\n",
    "    print(\"Error code:\", er.errno)\n",
    "    print(\"Error message:\", er.msg)"
   ]
  },
  {
   "cell_type": "code",
   "execution_count": 15,
   "metadata": {},
   "outputs": [
    {
     "name": "stdout",
     "output_type": "stream",
     "text": [
      "Getting a connection from pool_a.\n",
      "Creating a cursor object.\n"
     ]
    }
   ],
   "source": [
    "# Obtain a connection from pool_a\n",
    "print(\"Getting a connection from pool_a.\")\n",
    "connection_pool_a = pool.get_connection()\n",
    "\n",
    "# Create a cursor object to communicate with the database\n",
    "print(\"Creating a cursor object.\")\n",
    "cursor = connection_pool_a.cursor()"
   ]
  },
  {
   "cell_type": "code",
   "execution_count": 16,
   "metadata": {},
   "outputs": [],
   "source": [
    "#Create PeakHours SP\n",
    "cursor.execute(\"DROP PROCEDURE IF EXISTS PeakHours;\")\n",
    "stored_procedure_query = \"\"\"\n",
    "CREATE PROCEDURE PeakHours()\n",
    "BEGIN\n",
    "  SELECT HOUR(BookingSlot) AS HOUR,\n",
    "  COUNT(HOUR(BookingSlot)) AS NUM_OF_BOOKINGS\n",
    "  FROM Bookings\n",
    "  GROUP BY HOUR(BookingSlot)\n",
    "  ORDER BY COUNT(HOUR(BookingSlot)) DESC;\n",
    "END;\n",
    "\"\"\""
   ]
  },
  {
   "cell_type": "code",
   "execution_count": 17,
   "metadata": {},
   "outputs": [
    {
     "name": "stdout",
     "output_type": "stream",
     "text": [
      "Executing the SQL Stored Procedure Query\n",
      "['HOUR', 'NUM_OF_BOOKINGS']\n",
      "(19, 2)\n",
      "(15, 1)\n",
      "(17, 1)\n",
      "(18, 1)\n",
      "(20, 1)\n"
     ]
    }
   ],
   "source": [
    "#Execute and call stored procedure\n",
    "print(\"Executing the SQL Stored Procedure Query\")\n",
    "cursor.execute(stored_procedure_query)\n",
    "cursor.callproc(\"PeakHours\")\n",
    "results = next(cursor.stored_results())\n",
    "dataset = results.fetchall()\n",
    "\n",
    "for column_id in cursor.stored_results():\n",
    "    columns = [ column[0] for column in column_id.description ]\n",
    "\n",
    "#Print the names of the columns\n",
    "print(columns)\n",
    "\n",
    "#Print data \n",
    "for data in dataset:\n",
    "    print(data)"
   ]
  },
  {
   "cell_type": "markdown",
   "metadata": {},
   "source": [
    "Create GuestStatus stored procedure"
   ]
  },
  {
   "cell_type": "code",
   "execution_count": 18,
   "metadata": {},
   "outputs": [],
   "source": [
    "cursor.execute(\"DROP PROCEDURE IF EXISTS GuestStatus;\")\n",
    "sp_query_gs = \"\"\"\n",
    "CREATE PROCEDURE GuestStatus()\n",
    "BEGIN\n",
    "SELECT \n",
    "CONCAT(b.GuestFirstName, ' ', b.GuestLastName) AS GuestName,\n",
    "CASE WHEN e.Role IN ('Manager', 'Assistant Manager') THEN 'Ready to pay'\n",
    "     WHEN e.Role = 'Head Chef' THEN 'Ready to serve'\n",
    "     WHEN e.Role = 'Assistant Chef' THEN 'Preparing Order'\n",
    "     WHEN e.Role = 'Head Waiter' THEN 'Order served'\n",
    "        ELSE 'In Queue' END AS Status\n",
    "FROM Bookings AS b\n",
    "LEFT JOIN Employees AS e\n",
    "ON b.EmployeeID = e.EmployeeID;\n",
    "END;\n",
    "\"\"\""
   ]
  },
  {
   "cell_type": "code",
   "execution_count": 19,
   "metadata": {},
   "outputs": [
    {
     "name": "stdout",
     "output_type": "stream",
     "text": [
      "Executing the SQL Stored Procedure Query\n",
      "['GuestName', 'Status']\n",
      "('Anna Iversen', 'Ready to pay')\n",
      "('Joakim Iversen', 'Ready to pay')\n",
      "('Vanessa McCarthy', 'Ready to serve')\n",
      "('Marcos Romero', 'Preparing Order')\n",
      "('Hiroki Yamane', 'Ready to pay')\n",
      "('Diana Pinto', 'Order served')\n"
     ]
    }
   ],
   "source": [
    "#Execute GuestStatus stored procedure\n",
    "print(\"Executing the SQL Stored Procedure Query\")\n",
    "cursor.execute(sp_query_gs)\n",
    "cursor.callproc(\"GuestStatus\")\n",
    "results = next(cursor.stored_results())\n",
    "dataset = results.fetchall()\n",
    "\n",
    "for column_id in cursor.stored_results():\n",
    "    columns = [ column[0] for column in column_id.description ]\n",
    "\n",
    "#Print columns.\n",
    "print(columns)\n",
    "\n",
    "#Print data.\n",
    "for data in dataset:\n",
    "    print(data)"
   ]
  },
  {
   "cell_type": "code",
   "execution_count": 20,
   "metadata": {},
   "outputs": [],
   "source": [
    "#Close cursor and connection\n",
    "cursor.close()\n",
    "connection.close()"
   ]
  },
  {
   "cell_type": "markdown",
   "metadata": {},
   "source": [
    "Little Lemon Analysis & Sales Report"
   ]
  },
  {
   "cell_type": "code",
   "execution_count": 22,
   "metadata": {},
   "outputs": [
    {
     "name": "stdout",
     "output_type": "stream",
     "text": [
      "The connection pool is created with a name:  pool_b\n",
      "The pool size is: 2\n"
     ]
    }
   ],
   "source": [
    "#Create & establish connection pool.\n",
    "from mysql.connector.pooling import MySQLConnectionPool\n",
    "from mysql.connector import Error\n",
    "\n",
    "dbconfig={\"database\" : \"little_lemon\", \"user\" : \"root\", \"password\" : \"\"}\n",
    "\n",
    "# Establish a connection pool [pool_name = pool_b] with two connections\n",
    "try:\n",
    "    pool = MySQLConnectionPool(pool_name = \"pool_b\", pool_size = 2, **dbconfig) #default is 5\n",
    "    print(\"The connection pool is created with a name: \", pool.pool_name)\n",
    "    print(\"The pool size is:\", pool.pool_size)\n",
    "\n",
    "# Implement error handling using a try-except block in case the connection fails\n",
    "except Error as er:\n",
    "    print(\"Error code:\", er.errno)\n",
    "    print(\"Error message:\", er.msg)"
   ]
  },
  {
   "cell_type": "code",
   "execution_count": 23,
   "metadata": {},
   "outputs": [],
   "source": [
    "#Create variable for the info of the 3 guests\n",
    "guests = [(8, 'Anees', 'Java', '18:00', 6),\n",
    "    (5, 'Bald', 'Vin', '19:00', 6),\n",
    "    (12, 'Jay', 'Kon', '19:30', 6)]"
   ]
  },
  {
   "cell_type": "code",
   "execution_count": 24,
   "metadata": {},
   "outputs": [
    {
     "name": "stdout",
     "output_type": "stream",
     "text": [
      "Data for Guests 1 and 2 inserted successfully.\n"
     ]
    }
   ],
   "source": [
    "#Get connections from the connection pool and insert data for guests 1 & 2\n",
    "try:\n",
    "    # -------------------------------------------\n",
    "    # Get the first two connections from the pool\n",
    "    conn1 = pool.get_connection()\n",
    "    conn2 = pool.get_connection()\n",
    "    # -------------------------------------------\n",
    "\n",
    "    # Check if either of the connections is None\n",
    "    if conn1 is None or conn2 is None:\n",
    "        print(\"Not enough connections available in the pool.\")\n",
    "    else:\n",
    "        # Create a cursor for each connection\n",
    "        cursor1 = conn1.cursor()\n",
    "        cursor2 = conn2.cursor()\n",
    "\n",
    "        # Insert data for Guest 1 using cursor1\n",
    "        query1 = \"INSERT INTO Bookings (TableNo, GuestFirstName, GuestLastName, BookingSlot, EmployeeID) VALUES (%s, %s, %s, %s, %s)\"\n",
    "        cursor1.execute(query1, guests[0])\n",
    "        conn1.commit()\n",
    "\n",
    "        # Insert data for Guest 2 using cursor2\n",
    "        query2 = \"INSERT INTO Bookings (TableNo, GuestFirstName, GuestLastName, BookingSlot, EmployeeID) VALUES (%s, %s, %s, %s, %s)\"\n",
    "        cursor2.execute(query2, guests[1])\n",
    "        conn2.commit()\n",
    "        \n",
    "        print(\"Data for Guests 1 and 2 inserted successfully.\")\n",
    "\n",
    "except Error as er:\n",
    "    print(\"Error:\", er)"
   ]
  },
  {
   "cell_type": "code",
   "execution_count": 25,
   "metadata": {},
   "outputs": [
    {
     "name": "stdout",
     "output_type": "stream",
     "text": [
      "Error: Failed getting connection; pool exhausted\n"
     ]
    }
   ],
   "source": [
    "#Insert data for Guest 3\n",
    "try:\n",
    "    # Get a 3rd connection from the pool\n",
    "    conn3 = pool.get_connection()\n",
    "\n",
    "    if conn3 is None:\n",
    "        print(\"No more connections available.\")\n",
    "    else:\n",
    "        # Create cursor for connection\n",
    "        cursor3 = conn3.cursor()\n",
    "\n",
    "        # Insert data for Guest 3\n",
    "        query3 = \"INSERT INTO Bookings (TableNo, GuestFirstName, GuestLastName, BookingSlot, EmployeeID) VALUES (%s, %s, %s, %s, %s)\"\n",
    "        cursor3.execute(query3, guests[2])\n",
    "        conn3.commit()\n",
    "\n",
    "        # -------------------------------\n",
    "        # Close database cursor\n",
    "        cursor3.close()\n",
    "        # Return connection to the pool\n",
    "        conn3.close()\n",
    "        # -------------------------------\n",
    "\n",
    "        print(\"Data for Guest 3 inserted successfully.\")\n",
    "\n",
    "except Error as er:\n",
    "    print(\"Error:\", er)"
   ]
  },
  {
   "cell_type": "code",
   "execution_count": 26,
   "metadata": {},
   "outputs": [],
   "source": [
    "# Return connection 1 to the pool\n",
    "conn1.close()"
   ]
  },
  {
   "cell_type": "code",
   "execution_count": 27,
   "metadata": {},
   "outputs": [
    {
     "name": "stdout",
     "output_type": "stream",
     "text": [
      "Data for Guest 3 inserted successfully.\n"
     ]
    }
   ],
   "source": [
    "#Attempt to insert data for Guest 3 again\n",
    "try:\n",
    "    # Get a 3rd connection from the pool\n",
    "    conn3 = pool.get_connection()\n",
    "\n",
    "    if conn3 is None:\n",
    "        print(\"No more connections available.\")\n",
    "    else:\n",
    "        # Create cursor for connection\n",
    "        cursor3 = conn3.cursor()\n",
    "\n",
    "        # Insert data for Guest 3\n",
    "        query3 = \"INSERT INTO Bookings (TableNo, GuestFirstName, GuestLastName, BookingSlot, EmployeeID) VALUES (%s, %s, %s, %s, %s)\"\n",
    "        cursor3.execute(query3, guests[2])\n",
    "        conn3.commit()\n",
    "\n",
    "        # -------------------------------\n",
    "        # Close database cursor\n",
    "        cursor3.close()\n",
    "        # Return connection to the pool\n",
    "        conn3.close()\n",
    "        # -------------------------------\n",
    "\n",
    "        print(\"Data for Guest 3 inserted successfully.\")\n",
    "\n",
    "except Error as er:\n",
    "    print(\"Error:\", er)"
   ]
  },
  {
   "cell_type": "code",
   "execution_count": 28,
   "metadata": {},
   "outputs": [],
   "source": [
    "# Return connection 2 back to pool\n",
    "conn2.close()"
   ]
  },
  {
   "cell_type": "markdown",
   "metadata": {},
   "source": [
    "Create report"
   ]
  },
  {
   "cell_type": "code",
   "execution_count": 29,
   "metadata": {},
   "outputs": [
    {
     "name": "stdout",
     "output_type": "stream",
     "text": [
      "Collecting tabulate\n",
      "  Downloading tabulate-0.9.0-py3-none-any.whl (35 kB)\n",
      "Installing collected packages: tabulate\n",
      "\u001b[33m  WARNING: The script tabulate is installed in '/home/coder/.local/bin' which is not on PATH.\n",
      "  Consider adding this directory to PATH or, if you prefer to suppress this warning, use --no-warn-script-location.\u001b[0m\n",
      "Successfully installed tabulate-0.9.0\n"
     ]
    }
   ],
   "source": [
    "#install modules and libraries\n",
    "!pip3 install tabulate\n",
    "from tabulate import tabulate\n",
    "import mysql.connector"
   ]
  },
  {
   "cell_type": "code",
   "execution_count": 30,
   "metadata": {},
   "outputs": [],
   "source": [
    "# Create a connection to the MySQL database\n",
    "connection = mysql.connector.connect(**dbconfig)\n",
    "# Create cursor to interact with database\n",
    "cursor = connection.cursor()"
   ]
  },
  {
   "cell_type": "code",
   "execution_count": 32,
   "metadata": {},
   "outputs": [],
   "source": [
    "# Query 1: name and EmployeeID of manager\n",
    "query1 = \"\"\"\n",
    "SELECT \n",
    "Name, \n",
    "EmployeeID\n",
    "FROM Employees\n",
    "WHERE Role = 'Manager'\n",
    "\"\"\"\n",
    "cursor.execute(query1)\n",
    "result1 = cursor.fetchall()\n",
    "\n",
    "# Query 2: name and role of the employee who receives highest salary\n",
    "query2 = \"\"\"\n",
    "SELECT \n",
    "Name, \n",
    "Role\n",
    "FROM Employees\n",
    "WHERE Annual_Salary = (SELECT MAX(Annual_Salary) FROM Employees)\n",
    "\"\"\"\n",
    "cursor.execute(query2)\n",
    "result2 = cursor.fetchall()\n",
    "\n",
    "# Query 3: number of guests booked between 18:00 and 20:00\n",
    "query3 = \"\"\"\n",
    "SELECT COUNT(BookingID) AS guests_booked_between_18_20\n",
    "FROM Bookings\n",
    "WHERE HOUR(BookingSlot) BETWEEN 18 AND 20\n",
    "\"\"\"\n",
    "cursor.execute(query3)\n",
    "result3 = cursor.fetchall()\n",
    "\n",
    "# Query 4: full name and BookingID of guests waiting to be seated\n",
    "query4 = \"\"\"\n",
    "SELECT CONCAT(bk.GuestFirstName, \" \", bk.GuestLastName) AS full_name, \n",
    "bk.BookingID, \n",
    "bk.BookingSlot\n",
    "FROM Bookings AS bk\n",
    "JOIN Employees AS em\n",
    "ON bk.EmployeeID = em.EmployeeID\n",
    "WHERE em.Role = 'Receptionist'\n",
    "ORDER BY bk.BookingSlot, bk.BookingID;\n",
    "\"\"\"\n",
    "cursor.execute(query4)\n",
    "result4 = cursor.fetchall()"
   ]
  },
  {
   "cell_type": "code",
   "execution_count": 33,
   "metadata": {},
   "outputs": [
    {
     "name": "stdout",
     "output_type": "stream",
     "text": [
      "\n",
      "Query 1 - Manager:\n",
      "+---------------+------------+\n",
      "|     Name      | EmployeeID |\n",
      "+---------------+------------+\n",
      "| Mario Gollini |     1      |\n",
      "+---------------+------------+\n",
      "\n",
      "Query 2 - Highest salary employee:\n",
      "+---------------+---------+\n",
      "|     Name      |  Role   |\n",
      "+---------------+---------+\n",
      "| Mario Gollini | Manager |\n",
      "+---------------+---------+\n",
      "\n",
      "Query 3 - Number of guests booked between 18:00 and 20:00:\n",
      "+---------------+\n",
      "| Guests Booked |\n",
      "+---------------+\n",
      "|       7       |\n",
      "+---------------+\n",
      "\n",
      "Query 4 - Guests waiting to be seated:\n",
      "+------------+-----------+-------------+\n",
      "| Full Name  | BookingID | BookingSlot |\n",
      "+------------+-----------+-------------+\n",
      "| Anees Java |     7     |  18:00:00   |\n",
      "|  Bald Vin  |     8     |  19:00:00   |\n",
      "|  Jay Kon   |     9     |  19:30:00   |\n",
      "+------------+-----------+-------------+\n"
     ]
    }
   ],
   "source": [
    "#Format and print the results in a table\n",
    "print(\"\\nQuery 1 - Manager:\")\n",
    "print(tabulate(result1, headers=[\"Name\", \"EmployeeID\"], tablefmt=\"pretty\"))\n",
    "\n",
    "print(\"\\nQuery 2 - Highest salary employee:\")\n",
    "print(tabulate(result2, headers=[\"Name\", \"Role\"], tablefmt=\"pretty\"))\n",
    "\n",
    "print(\"\\nQuery 3 - Number of guests booked between 18:00 and 20:00:\")\n",
    "print(tabulate(result3, headers=[\"Guests Booked\"], tablefmt=\"pretty\"))\n",
    "\n",
    "print(\"\\nQuery 4 - Guests waiting to be seated:\")\n",
    "print(tabulate(result4, headers=[\"Full Name\", \"BookingID\", \"BookingSlot\"], tablefmt=\"pretty\"))\n",
    "\n"
   ]
  },
  {
   "cell_type": "code",
   "execution_count": 34,
   "metadata": {},
   "outputs": [
    {
     "data": {
      "text/plain": [
       "True"
      ]
     },
     "execution_count": 34,
     "metadata": {},
     "output_type": "execute_result"
    }
   ],
   "source": [
    "# Close the cursor\n",
    "cursor.close()"
   ]
  },
  {
   "cell_type": "markdown",
   "metadata": {},
   "source": [
    "Create store procedure BasicSalesReport"
   ]
  },
  {
   "cell_type": "code",
   "execution_count": 35,
   "metadata": {},
   "outputs": [],
   "source": [
    "# Create a cursor object\n",
    "cursor = connection.cursor()"
   ]
  },
  {
   "cell_type": "code",
   "execution_count": 36,
   "metadata": {},
   "outputs": [],
   "source": [
    "#Drop the procedure if already exists\n",
    "cursor.execute(\"DROP PROCEDURE IF EXISTS BasicSalesReport;\")\n",
    "#Create stored procedure\n",
    "stored_procedure_query = \"\"\"\n",
    "CREATE PROCEDURE BasicSalesReport()\n",
    "BEGIN\n",
    "  DECLARE TotalSales DECIMAL(10, 2);\n",
    "  DECLARE AverageSale DECIMAL(10, 2);\n",
    "  DECLARE MinimumBill DECIMAL(10, 2);\n",
    "  DECLARE MaximumBill DECIMAL(10, 2);\n",
    " \n",
    "  SELECT \n",
    "  SUM(BillAmount) INTO TotalSales\n",
    "  FROM Orders;\n",
    "  \n",
    "  SELECT \n",
    "  AVG(BillAmount) INTO AverageSale\n",
    "  FROM Orders;\n",
    "  \n",
    "  SELECT \n",
    "  MIN(BillAmount) INTO MinimumBill\n",
    "  FROM Orders;\n",
    "  \n",
    "  SELECT \n",
    "  MAX(BillAmount) INTO MaximumBill \n",
    "  FROM Orders;\n",
    " \n",
    "  SELECT TotalSales AS TotalSales, AverageSale AS AverageSale, MinimumBill AS MinimumBill, MaximumBill AS MaximumBill;\n",
    "END;\n",
    "\"\"\""
   ]
  },
  {
   "cell_type": "code",
   "execution_count": 37,
   "metadata": {},
   "outputs": [
    {
     "name": "stdout",
     "output_type": "stream",
     "text": [
      "Creating stored procedure\n",
      "Calling stored procedure\n"
     ]
    },
    {
     "data": {
      "text/plain": [
       "()"
      ]
     },
     "execution_count": 37,
     "metadata": {},
     "output_type": "execute_result"
    }
   ],
   "source": [
    "#Execute and call stored procedure\n",
    "print(\"Creating stored procedure\")\n",
    "cursor.execute(stored_procedure_query)\n",
    "print(\"Calling stored procedure\")\n",
    "cursor.callproc(\"BasicSalesReport\")"
   ]
  },
  {
   "cell_type": "code",
   "execution_count": 38,
   "metadata": {},
   "outputs": [],
   "source": [
    "#Fetch results\n",
    "results = next(cursor.stored_results())\n",
    "dataset = results.fetchall()"
   ]
  },
  {
   "cell_type": "code",
   "execution_count": 39,
   "metadata": {},
   "outputs": [
    {
     "name": "stdout",
     "output_type": "stream",
     "text": [
      "\n",
      "Basic Sales Report (Stored Procedure Result):\n",
      "\n",
      "TotalSales: 243.00\n",
      "AverageSale: 48.60\n",
      "MinimumBill: 37.00\n",
      "MaximumBill: 86.00\n"
     ]
    }
   ],
   "source": [
    "#Print results\n",
    "print(\"\\nBasic Sales Report (Stored Procedure Result):\")\n",
    "print(\"\\nTotalSales: {:.2f}\".format(dataset[0][0]))\n",
    "print(\"AverageSale: {:.2f}\".format(dataset[0][1]))\n",
    "print(\"MinimumBill: {:.2f}\".format(dataset[0][2]))\n",
    "print(\"MaximumBill: {:.2f}\".format(dataset[0][3]))"
   ]
  },
  {
   "cell_type": "code",
   "execution_count": 40,
   "metadata": {},
   "outputs": [
    {
     "data": {
      "text/plain": [
       "True"
      ]
     },
     "execution_count": 40,
     "metadata": {},
     "output_type": "execute_result"
    }
   ],
   "source": [
    "#Close cursor\n",
    "cursor.close()"
   ]
  },
  {
   "cell_type": "code",
   "execution_count": 41,
   "metadata": {},
   "outputs": [],
   "source": [
    "# Get a connection from the pool and create buffered cursor\n",
    "cursor = connection.cursor(buffered=True)"
   ]
  },
  {
   "cell_type": "code",
   "execution_count": 44,
   "metadata": {},
   "outputs": [],
   "source": [
    "# Combine data from Bookings and Employee tables. \n",
    "# Sort records in ascending order. Display info of first three guests. \n",
    "query = \"\"\"\n",
    "    SELECT \n",
    "    bk.BookingSlot,\n",
    "    CONCAT(bk.GuestFirstName, ' ', bk.GuestLastName) AS Guest_Name,\n",
    "    CONCAT(em.Name, '[', em.Role, ']') AS 'Assigned_To'\n",
    "    FROM Bookings AS bk\n",
    "    LEFT JOIN Employees AS em\n",
    "    ON bk.EmployeeID = em.EmployeeID\n",
    "    ORDER BY bk.BookingSlot ASC\n",
    "    LIMIT 3;\n",
    "\"\"\""
   ]
  },
  {
   "cell_type": "code",
   "execution_count": 45,
   "metadata": {},
   "outputs": [],
   "source": [
    "#Execute query and fetch results\n",
    "cursor.execute(query)\n",
    "results = cursor.fetchall()"
   ]
  },
  {
   "cell_type": "code",
   "execution_count": 46,
   "metadata": {},
   "outputs": [
    {
     "name": "stdout",
     "output_type": "stream",
     "text": [
      "+-------------+------------------+----------------------------+\n",
      "| BookingSlot |    Guest_name    |        Assigned_to         |\n",
      "+-------------+------------------+----------------------------+\n",
      "|  15:00:00   | Vanessa McCarthy | Giorgos Dioudis[Head Chef] |\n",
      "|  17:30:00   |  Marcos Romero   | Fatma Kaya[Assistant Chef] |\n",
      "|  18:00:00   |    Anees Java    | John Millar[Receptionist]  |\n",
      "+-------------+------------------+----------------------------+\n"
     ]
    }
   ],
   "source": [
    "#Create variable for table headers\n",
    "headers = [\"BookingSlot\", \"Guest_name\", \"Assigned_to\"]\n",
    "\n",
    "#Create list of rows for table\n",
    "table_data = []\n",
    "\n",
    "for row in results:\n",
    "    booking_slot = str(row[0]) \n",
    "    guest_name = row[1]\n",
    "    assigned_to = row[2]\n",
    "    table_data.append([booking_slot, guest_name, assigned_to])\n",
    "\n",
    "#Use tabulate to print results in table\n",
    "table = tabulate(table_data, headers, tablefmt=\"pretty\")\n",
    "\n",
    "print(table)"
   ]
  },
  {
   "cell_type": "code",
   "execution_count": null,
   "metadata": {},
   "outputs": [],
   "source": [
    "#Return connection back to the pool and close.\n",
    "cursor.close()\n",
    "connection.close()"
   ]
  }
 ],
 "metadata": {
  "interpreter": {
   "hash": "31f2aee4e71d21fbe5cf8b01ff0e069b9275f58929596ceb00d14d90e3e16cd6"
  },
  "kernelspec": {
   "display_name": "Python 3 (ipykernel)",
   "language": "python",
   "name": "python3"
  },
  "language_info": {
   "codemirror_mode": {
    "name": "ipython",
    "version": 3
   },
   "file_extension": ".py",
   "mimetype": "text/x-python",
   "name": "python",
   "nbconvert_exporter": "python",
   "pygments_lexer": "ipython3",
   "version": "3.11.5"
  }
 },
 "nbformat": 4,
 "nbformat_minor": 4
}
